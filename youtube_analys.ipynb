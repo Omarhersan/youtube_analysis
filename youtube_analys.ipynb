{
 "cells": [
  {
   "cell_type": "markdown",
   "source": [
    "# Youtube analysis\n",
    "This notebook plans on creating an initial approach to the google's youtube api. Looking for interesting endpoints."
   ],
   "metadata": {
    "collapsed": false
   },
   "id": "863eb6c30880314f"
  },
  {
   "cell_type": "code",
   "execution_count": 1,
   "outputs": [],
   "source": [
    "from dotenv import load_dotenv\n",
    "import os"
   ],
   "metadata": {
    "collapsed": false,
    "ExecuteTime": {
     "end_time": "2024-01-29T01:37:37.915780800Z",
     "start_time": "2024-01-29T01:37:37.894468900Z"
    }
   },
   "id": "ebb2a8a468da4bf5"
  },
  {
   "cell_type": "code",
   "execution_count": 2,
   "outputs": [],
   "source": [
    "load_dotenv()\n",
    "\n",
    "api_service_name = \"youtube\"\n",
    "api_version = \"v3\"\n",
    "API_KEY = os.getenv('API_KEY')"
   ],
   "metadata": {
    "collapsed": false,
    "ExecuteTime": {
     "end_time": "2024-01-29T01:38:26.118511200Z",
     "start_time": "2024-01-29T01:38:26.076962Z"
    }
   },
   "id": "d8f7c91dbaa5494"
  },
  {
   "cell_type": "code",
   "execution_count": null,
   "outputs": [],
   "source": [],
   "metadata": {
    "collapsed": false
   },
   "id": "d119209c7d0aecc6"
  }
 ],
 "metadata": {
  "kernelspec": {
   "display_name": "Python 3",
   "language": "python",
   "name": "python3"
  },
  "language_info": {
   "codemirror_mode": {
    "name": "ipython",
    "version": 2
   },
   "file_extension": ".py",
   "mimetype": "text/x-python",
   "name": "python",
   "nbconvert_exporter": "python",
   "pygments_lexer": "ipython2",
   "version": "2.7.6"
  }
 },
 "nbformat": 4,
 "nbformat_minor": 5
}
